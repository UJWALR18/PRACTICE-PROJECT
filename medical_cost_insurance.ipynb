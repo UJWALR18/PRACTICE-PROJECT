{
 "cells": [
  {
   "cell_type": "code",
   "execution_count": 1,
   "id": "4302a0aa",
   "metadata": {},
   "outputs": [],
   "source": [
    "# First, import the necessary libraries\n",
    "import pandas as pd\n",
    "import numpy as np\n",
    "import seaborn as sns\n",
    "import matplotlib.pyplot as plt\n",
    "%matplotlib inline\n",
    "\n",
    "import warnings\n",
    "warnings.simplefilter(action='ignore')"
   ]
  },
  {
   "cell_type": "code",
   "execution_count": 3,
   "id": "3dfcaeb6",
   "metadata": {},
   "outputs": [
    {
     "data": {
      "text/html": [
       "<div>\n",
       "<style scoped>\n",
       "    .dataframe tbody tr th:only-of-type {\n",
       "        vertical-align: middle;\n",
       "    }\n",
       "\n",
       "    .dataframe tbody tr th {\n",
       "        vertical-align: top;\n",
       "    }\n",
       "\n",
       "    .dataframe thead th {\n",
       "        text-align: right;\n",
       "    }\n",
       "</style>\n",
       "<table border=\"1\" class=\"dataframe\">\n",
       "  <thead>\n",
       "    <tr style=\"text-align: right;\">\n",
       "      <th></th>\n",
       "      <th>age</th>\n",
       "      <th>sex</th>\n",
       "      <th>bmi</th>\n",
       "      <th>children</th>\n",
       "      <th>smoker</th>\n",
       "      <th>region</th>\n",
       "      <th>charges</th>\n",
       "    </tr>\n",
       "  </thead>\n",
       "  <tbody>\n",
       "    <tr>\n",
       "      <th>0</th>\n",
       "      <td>19</td>\n",
       "      <td>female</td>\n",
       "      <td>27.900</td>\n",
       "      <td>0</td>\n",
       "      <td>yes</td>\n",
       "      <td>southwest</td>\n",
       "      <td>16884.92400</td>\n",
       "    </tr>\n",
       "    <tr>\n",
       "      <th>1</th>\n",
       "      <td>18</td>\n",
       "      <td>male</td>\n",
       "      <td>33.770</td>\n",
       "      <td>1</td>\n",
       "      <td>no</td>\n",
       "      <td>southeast</td>\n",
       "      <td>1725.55230</td>\n",
       "    </tr>\n",
       "    <tr>\n",
       "      <th>2</th>\n",
       "      <td>28</td>\n",
       "      <td>male</td>\n",
       "      <td>33.000</td>\n",
       "      <td>3</td>\n",
       "      <td>no</td>\n",
       "      <td>southeast</td>\n",
       "      <td>4449.46200</td>\n",
       "    </tr>\n",
       "    <tr>\n",
       "      <th>3</th>\n",
       "      <td>33</td>\n",
       "      <td>male</td>\n",
       "      <td>22.705</td>\n",
       "      <td>0</td>\n",
       "      <td>no</td>\n",
       "      <td>northwest</td>\n",
       "      <td>21984.47061</td>\n",
       "    </tr>\n",
       "    <tr>\n",
       "      <th>4</th>\n",
       "      <td>32</td>\n",
       "      <td>male</td>\n",
       "      <td>28.880</td>\n",
       "      <td>0</td>\n",
       "      <td>no</td>\n",
       "      <td>northwest</td>\n",
       "      <td>3866.85520</td>\n",
       "    </tr>\n",
       "  </tbody>\n",
       "</table>\n",
       "</div>"
      ],
      "text/plain": [
       "   age     sex     bmi  children smoker     region      charges\n",
       "0   19  female  27.900         0    yes  southwest  16884.92400\n",
       "1   18    male  33.770         1     no  southeast   1725.55230\n",
       "2   28    male  33.000         3     no  southeast   4449.46200\n",
       "3   33    male  22.705         0     no  northwest  21984.47061\n",
       "4   32    male  28.880         0     no  northwest   3866.85520"
      ]
     },
     "execution_count": 3,
     "metadata": {},
     "output_type": "execute_result"
    }
   ],
   "source": [
    "df = pd.read_csv('insurance.csv')\n",
    "df.head()"
   ]
  },
  {
   "cell_type": "code",
   "execution_count": 10,
   "id": "fe7e7b58",
   "metadata": {},
   "outputs": [
    {
     "data": {
      "text/plain": [
       "(1338, 7)"
      ]
     },
     "execution_count": 10,
     "metadata": {},
     "output_type": "execute_result"
    }
   ],
   "source": [
    "df.shape"
   ]
  },
  {
   "cell_type": "code",
   "execution_count": 4,
   "id": "55169de9",
   "metadata": {},
   "outputs": [
    {
     "name": "stdout",
     "output_type": "stream",
     "text": [
      "<class 'pandas.core.frame.DataFrame'>\n",
      "RangeIndex: 1338 entries, 0 to 1337\n",
      "Data columns (total 7 columns):\n",
      " #   Column    Non-Null Count  Dtype  \n",
      "---  ------    --------------  -----  \n",
      " 0   age       1338 non-null   int64  \n",
      " 1   sex       1338 non-null   object \n",
      " 2   bmi       1338 non-null   float64\n",
      " 3   children  1338 non-null   int64  \n",
      " 4   smoker    1338 non-null   object \n",
      " 5   region    1338 non-null   object \n",
      " 6   charges   1338 non-null   float64\n",
      "dtypes: float64(2), int64(2), object(3)\n",
      "memory usage: 73.3+ KB\n"
     ]
    }
   ],
   "source": [
    "df.info()"
   ]
  },
  {
   "cell_type": "code",
   "execution_count": 5,
   "id": "9fa7d4d2",
   "metadata": {},
   "outputs": [
    {
     "data": {
      "text/plain": [
       "age         0\n",
       "sex         0\n",
       "bmi         0\n",
       "children    0\n",
       "smoker      0\n",
       "region      0\n",
       "charges     0\n",
       "dtype: int64"
      ]
     },
     "execution_count": 5,
     "metadata": {},
     "output_type": "execute_result"
    }
   ],
   "source": [
    "df.isnull().sum()"
   ]
  },
  {
   "cell_type": "code",
   "execution_count": 6,
   "id": "d993ef76",
   "metadata": {},
   "outputs": [
    {
     "data": {
      "text/html": [
       "<div>\n",
       "<style scoped>\n",
       "    .dataframe tbody tr th:only-of-type {\n",
       "        vertical-align: middle;\n",
       "    }\n",
       "\n",
       "    .dataframe tbody tr th {\n",
       "        vertical-align: top;\n",
       "    }\n",
       "\n",
       "    .dataframe thead th {\n",
       "        text-align: right;\n",
       "    }\n",
       "</style>\n",
       "<table border=\"1\" class=\"dataframe\">\n",
       "  <thead>\n",
       "    <tr style=\"text-align: right;\">\n",
       "      <th></th>\n",
       "      <th>age</th>\n",
       "      <th>bmi</th>\n",
       "      <th>children</th>\n",
       "      <th>charges</th>\n",
       "    </tr>\n",
       "  </thead>\n",
       "  <tbody>\n",
       "    <tr>\n",
       "      <th>count</th>\n",
       "      <td>1338.000000</td>\n",
       "      <td>1338.000000</td>\n",
       "      <td>1338.000000</td>\n",
       "      <td>1338.000000</td>\n",
       "    </tr>\n",
       "    <tr>\n",
       "      <th>mean</th>\n",
       "      <td>39.207025</td>\n",
       "      <td>30.663397</td>\n",
       "      <td>1.094918</td>\n",
       "      <td>13270.422265</td>\n",
       "    </tr>\n",
       "    <tr>\n",
       "      <th>std</th>\n",
       "      <td>14.049960</td>\n",
       "      <td>6.098187</td>\n",
       "      <td>1.205493</td>\n",
       "      <td>12110.011237</td>\n",
       "    </tr>\n",
       "    <tr>\n",
       "      <th>min</th>\n",
       "      <td>18.000000</td>\n",
       "      <td>15.960000</td>\n",
       "      <td>0.000000</td>\n",
       "      <td>1121.873900</td>\n",
       "    </tr>\n",
       "    <tr>\n",
       "      <th>25%</th>\n",
       "      <td>27.000000</td>\n",
       "      <td>26.296250</td>\n",
       "      <td>0.000000</td>\n",
       "      <td>4740.287150</td>\n",
       "    </tr>\n",
       "    <tr>\n",
       "      <th>50%</th>\n",
       "      <td>39.000000</td>\n",
       "      <td>30.400000</td>\n",
       "      <td>1.000000</td>\n",
       "      <td>9382.033000</td>\n",
       "    </tr>\n",
       "    <tr>\n",
       "      <th>75%</th>\n",
       "      <td>51.000000</td>\n",
       "      <td>34.693750</td>\n",
       "      <td>2.000000</td>\n",
       "      <td>16639.912515</td>\n",
       "    </tr>\n",
       "    <tr>\n",
       "      <th>max</th>\n",
       "      <td>64.000000</td>\n",
       "      <td>53.130000</td>\n",
       "      <td>5.000000</td>\n",
       "      <td>63770.428010</td>\n",
       "    </tr>\n",
       "  </tbody>\n",
       "</table>\n",
       "</div>"
      ],
      "text/plain": [
       "               age          bmi     children       charges\n",
       "count  1338.000000  1338.000000  1338.000000   1338.000000\n",
       "mean     39.207025    30.663397     1.094918  13270.422265\n",
       "std      14.049960     6.098187     1.205493  12110.011237\n",
       "min      18.000000    15.960000     0.000000   1121.873900\n",
       "25%      27.000000    26.296250     0.000000   4740.287150\n",
       "50%      39.000000    30.400000     1.000000   9382.033000\n",
       "75%      51.000000    34.693750     2.000000  16639.912515\n",
       "max      64.000000    53.130000     5.000000  63770.428010"
      ]
     },
     "execution_count": 6,
     "metadata": {},
     "output_type": "execute_result"
    }
   ],
   "source": [
    "df.describe()"
   ]
  },
  {
   "cell_type": "code",
   "execution_count": 7,
   "id": "006bd6d3",
   "metadata": {},
   "outputs": [],
   "source": [
    "# Let's do some Exploratory Data Analysis(EDA)"
   ]
  },
  {
   "cell_type": "code",
   "execution_count": 11,
   "id": "406f52b5",
   "metadata": {},
   "outputs": [
    {
     "data": {
      "text/plain": [
       "<AxesSubplot:title={'center':'Age vs Charges'}, xlabel='age', ylabel='charges'>"
      ]
     },
     "execution_count": 11,
     "metadata": {},
     "output_type": "execute_result"
    },
    {
     "data": {
      "image/png": "[encoded data removed]",
      "text/plain": [
       "<Figure size 720x504 with 1 Axes>"
      ]
     },
     "metadata": {
      "needs_background": "light"
     },
     "output_type": "display_data"
    }
   ],
   "source": [
    "plt.figure(figsize=(10,7))\n",
    "plt.title('Age vs Charges')\n",
    "sns.barplot(x='age',y='charges',data=df)"
   ]
  },
  {
   "cell_type": "markdown",
   "id": "bdbebd78",
   "metadata": {},
   "source": [
    "We can clearly see that as age increases, the medical insurance cost also increases"
   ]
  },
  {
   "cell_type": "code",
   "execution_count": 12,
   "id": "67ac1c1b",
   "metadata": {},
   "outputs": [
    {
     "data": {
      "text/plain": [
       "<AxesSubplot:title={'center':'Region vs Charges'}, xlabel='region', ylabel='charges'>"
      ]
     },
     "execution_count": 12,
     "metadata": {},
     "output_type": "execute_result"
    },
    {
     "data": {
      "image/png": "[encoded data removed]",
      "text/plain": [
       "<Figure size 720x504 with 1 Axes>"
      ]
     },
     "metadata": {
      "needs_background": "light"
     },
     "output_type": "display_data"
    }
   ],
   "source": [
    "plt.figure(figsize=(10,7))\n",
    "plt.title('Region vs Charges')\n",
    "sns.barplot(x='region',y='charges',data=df)"
   ]
  },
  {
   "cell_type": "code",
   "execution_count": 13,
   "id": "fa3b2b45",
   "metadata": {},
   "outputs": [
    {
     "data": {
      "text/plain": [
       "<AxesSubplot:title={'center':'Smoker vs Charges'}, xlabel='smoker', ylabel='charges'>"
      ]
     },
     "execution_count": 13,
     "metadata": {},
     "output_type": "execute_result"
    },
    {
     "data": {
      "image/png": "[encoded data removed]",
      "text/plain": [
       "<Figure size 720x504 with 1 Axes>"
      ]
     },
     "metadata": {
      "needs_background": "light"
     },
     "output_type": "display_data"
    }
   ],
   "source": [
    "plt.figure(figsize=(10,7))\n",
    "plt.title('Smoker vs Charges')\n",
    "sns.barplot(x='smoker',y='charges',data=df,hue='sex')"
   ]
  },
  {
   "cell_type": "markdown",
   "id": "bdd7a32d",
   "metadata": {},
   "source": [
    "Smokers irrespective of gender have more medical insurance charges"
   ]
  },
  {
   "cell_type": "code",
   "execution_count": 14,
   "id": "4f3900ee",
   "metadata": {},
   "outputs": [
    {
     "data": {
      "text/plain": [
       "<AxesSubplot:xlabel='sex', ylabel='charges'>"
      ]
     },
     "execution_count": 14,
     "metadata": {},
     "output_type": "execute_result"
    },
    {
     "data": {
      "image/png": "[encoded data removed]",
      "text/plain": [
       "<Figure size 432x288 with 1 Axes>"
      ]
     },
     "metadata": {
      "needs_background": "light"
     },
     "output_type": "display_data"
    }
   ],
   "source": [
    "sns.barplot(df[\"sex\"],df[\"charges\"])"
   ]
  },
  {
   "cell_type": "markdown",
   "id": "bb0b48f0",
   "metadata": {},
   "source": [
    "Males tend to have more medical insurance charges compared to females."
   ]
  },
  {
   "cell_type": "code",
   "execution_count": 15,
   "id": "f8fec93c",
   "metadata": {},
   "outputs": [
    {
     "data": {
      "text/plain": [
       "<AxesSubplot:xlabel='children', ylabel='charges'>"
      ]
     },
     "execution_count": 15,
     "metadata": {},
     "output_type": "execute_result"
    },
    {
     "data": {
      "image/png": "[encoded data removed]",
      "text/plain": [
       "<Figure size 432x288 with 1 Axes>"
      ]
     },
     "metadata": {
      "needs_background": "light"
     },
     "output_type": "display_data"
    }
   ],
   "source": [
    "sns.barplot(df[\"children\"],df[\"charges\"])"
   ]
  },
  {
   "cell_type": "code",
   "execution_count": 16,
   "id": "f8dd4626",
   "metadata": {},
   "outputs": [
    {
     "data": {
      "text/plain": [
       "<AxesSubplot:xlabel='bmi', ylabel='Density'>"
      ]
     },
     "execution_count": 16,
     "metadata": {},
     "output_type": "execute_result"
    },
    {
     "data": {
      "image/png": "[encoded data removed]",
      "text/plain": [
       "<Figure size 432x288 with 1 Axes>"
      ]
     },
     "metadata": {
      "needs_background": "light"
     },
     "output_type": "display_data"
    }
   ],
   "source": [
    "sns.distplot(df[\"bmi\"])"
   ]
  },
  {
   "cell_type": "markdown",
   "id": "c641cbbc",
   "metadata": {},
   "source": [
    "well the data is approximately normally distributed seems no outlier present in it"
   ]
  },
  {
   "cell_type": "code",
   "execution_count": 19,
   "id": "e34d7de2",
   "metadata": {},
   "outputs": [],
   "source": [
    "#Converting category labels into numerical using LabelEncoder"
   ]
  },
  {
   "cell_type": "code",
   "execution_count": 20,
   "id": "074df4e7",
   "metadata": {},
   "outputs": [],
   "source": [
    "from sklearn.preprocessing import LabelEncoder\n",
    "le = LabelEncoder()\n"
   ]
  },
  {
   "cell_type": "code",
   "execution_count": 26,
   "id": "a84f6dc8",
   "metadata": {},
   "outputs": [],
   "source": [
    "clean_data = {'sex': {'male' : 0 , 'female' : 1} ,\n",
    "                 'smoker': {'no': 0 , 'yes' : 1},\n",
    "                   'region' : {'northwest':0, 'northeast':1,'southeast':2,'southwest':3}\n",
    "               }"
   ]
  },
  {
   "cell_type": "code",
   "execution_count": 27,
   "id": "f1c6fc4f",
   "metadata": {},
   "outputs": [
    {
     "data": {
      "text/html": [
       "<div>\n",
       "<style scoped>\n",
       "    .dataframe tbody tr th:only-of-type {\n",
       "        vertical-align: middle;\n",
       "    }\n",
       "\n",
       "    .dataframe tbody tr th {\n",
       "        vertical-align: top;\n",
       "    }\n",
       "\n",
       "    .dataframe thead th {\n",
       "        text-align: right;\n",
       "    }\n",
       "</style>\n",
       "<table border=\"1\" class=\"dataframe\">\n",
       "  <thead>\n",
       "    <tr style=\"text-align: right;\">\n",
       "      <th></th>\n",
       "      <th>age</th>\n",
       "      <th>sex</th>\n",
       "      <th>bmi</th>\n",
       "      <th>children</th>\n",
       "      <th>smoker</th>\n",
       "      <th>region</th>\n",
       "      <th>charges</th>\n",
       "    </tr>\n",
       "  </thead>\n",
       "  <tbody>\n",
       "    <tr>\n",
       "      <th>0</th>\n",
       "      <td>19</td>\n",
       "      <td>1</td>\n",
       "      <td>27.900</td>\n",
       "      <td>0</td>\n",
       "      <td>1</td>\n",
       "      <td>3</td>\n",
       "      <td>16884.92400</td>\n",
       "    </tr>\n",
       "    <tr>\n",
       "      <th>1</th>\n",
       "      <td>18</td>\n",
       "      <td>0</td>\n",
       "      <td>33.770</td>\n",
       "      <td>1</td>\n",
       "      <td>0</td>\n",
       "      <td>2</td>\n",
       "      <td>1725.55230</td>\n",
       "    </tr>\n",
       "    <tr>\n",
       "      <th>2</th>\n",
       "      <td>28</td>\n",
       "      <td>0</td>\n",
       "      <td>33.000</td>\n",
       "      <td>3</td>\n",
       "      <td>0</td>\n",
       "      <td>2</td>\n",
       "      <td>4449.46200</td>\n",
       "    </tr>\n",
       "    <tr>\n",
       "      <th>3</th>\n",
       "      <td>33</td>\n",
       "      <td>0</td>\n",
       "      <td>22.705</td>\n",
       "      <td>0</td>\n",
       "      <td>0</td>\n",
       "      <td>0</td>\n",
       "      <td>21984.47061</td>\n",
       "    </tr>\n",
       "    <tr>\n",
       "      <th>4</th>\n",
       "      <td>32</td>\n",
       "      <td>0</td>\n",
       "      <td>28.880</td>\n",
       "      <td>0</td>\n",
       "      <td>0</td>\n",
       "      <td>0</td>\n",
       "      <td>3866.85520</td>\n",
       "    </tr>\n",
       "    <tr>\n",
       "      <th>...</th>\n",
       "      <td>...</td>\n",
       "      <td>...</td>\n",
       "      <td>...</td>\n",
       "      <td>...</td>\n",
       "      <td>...</td>\n",
       "      <td>...</td>\n",
       "      <td>...</td>\n",
       "    </tr>\n",
       "    <tr>\n",
       "      <th>1333</th>\n",
       "      <td>50</td>\n",
       "      <td>0</td>\n",
       "      <td>30.970</td>\n",
       "      <td>3</td>\n",
       "      <td>0</td>\n",
       "      <td>0</td>\n",
       "      <td>10600.54830</td>\n",
       "    </tr>\n",
       "    <tr>\n",
       "      <th>1334</th>\n",
       "      <td>18</td>\n",
       "      <td>1</td>\n",
       "      <td>31.920</td>\n",
       "      <td>0</td>\n",
       "      <td>0</td>\n",
       "      <td>1</td>\n",
       "      <td>2205.98080</td>\n",
       "    </tr>\n",
       "    <tr>\n",
       "      <th>1335</th>\n",
       "      <td>18</td>\n",
       "      <td>1</td>\n",
       "      <td>36.850</td>\n",
       "      <td>0</td>\n",
       "      <td>0</td>\n",
       "      <td>2</td>\n",
       "      <td>1629.83350</td>\n",
       "    </tr>\n",
       "    <tr>\n",
       "      <th>1336</th>\n",
       "      <td>21</td>\n",
       "      <td>1</td>\n",
       "      <td>25.800</td>\n",
       "      <td>0</td>\n",
       "      <td>0</td>\n",
       "      <td>3</td>\n",
       "      <td>2007.94500</td>\n",
       "    </tr>\n",
       "    <tr>\n",
       "      <th>1337</th>\n",
       "      <td>61</td>\n",
       "      <td>1</td>\n",
       "      <td>29.070</td>\n",
       "      <td>0</td>\n",
       "      <td>1</td>\n",
       "      <td>0</td>\n",
       "      <td>29141.36030</td>\n",
       "    </tr>\n",
       "  </tbody>\n",
       "</table>\n",
       "<p>1338 rows × 7 columns</p>\n",
       "</div>"
      ],
      "text/plain": [
       "      age  sex     bmi  children  smoker  region      charges\n",
       "0      19    1  27.900         0       1       3  16884.92400\n",
       "1      18    0  33.770         1       0       2   1725.55230\n",
       "2      28    0  33.000         3       0       2   4449.46200\n",
       "3      33    0  22.705         0       0       0  21984.47061\n",
       "4      32    0  28.880         0       0       0   3866.85520\n",
       "...   ...  ...     ...       ...     ...     ...          ...\n",
       "1333   50    0  30.970         3       0       0  10600.54830\n",
       "1334   18    1  31.920         0       0       1   2205.98080\n",
       "1335   18    1  36.850         0       0       2   1629.83350\n",
       "1336   21    1  25.800         0       0       3   2007.94500\n",
       "1337   61    1  29.070         0       1       0  29141.36030\n",
       "\n",
       "[1338 rows x 7 columns]"
      ]
     },
     "execution_count": 27,
     "metadata": {},
     "output_type": "execute_result"
    }
   ],
   "source": [
    "df.replace(clean_data,inplace=True)\n",
    "df"
   ]
  },
  {
   "cell_type": "markdown",
   "id": "43ff8a0a",
   "metadata": {},
   "source": [
    "# Correlation using a Heatmap\n"
   ]
  },
  {
   "cell_type": "code",
   "execution_count": 28,
   "id": "5b0117db",
   "metadata": {},
   "outputs": [
    {
     "data": {
      "image/png": "[encoded data removed]",
      "text/plain": [
       "<Figure size 1008x576 with 2 Axes>"
      ]
     },
     "metadata": {
      "needs_background": "light"
     },
     "output_type": "display_data"
    }
   ],
   "source": [
    "df_corr = df.corr().abs()\n",
    "\n",
    "plt.figure(figsize=(14,8))\n",
    "sns.heatmap(df_corr, annot= True)\n",
    "plt.show()"
   ]
  },
  {
   "cell_type": "markdown",
   "id": "72d08281",
   "metadata": {},
   "source": [
    " except with smoking no corelation is present"
   ]
  },
  {
   "cell_type": "code",
   "execution_count": 31,
   "id": "d731d1a1",
   "metadata": {},
   "outputs": [],
   "source": [
    "from sklearn.preprocessing import StandardScaler"
   ]
  },
  {
   "cell_type": "code",
   "execution_count": 33,
   "id": "d3fc5003",
   "metadata": {},
   "outputs": [],
   "source": [
    "scaler = StandardScaler()\n",
    "X = pd.DataFrame(scaler.fit_transform(X))"
   ]
  },
  {
   "cell_type": "code",
   "execution_count": 34,
   "id": "11513629",
   "metadata": {},
   "outputs": [
    {
     "data": {
      "text/html": [
       "<div>\n",
       "<style scoped>\n",
       "    .dataframe tbody tr th:only-of-type {\n",
       "        vertical-align: middle;\n",
       "    }\n",
       "\n",
       "    .dataframe tbody tr th {\n",
       "        vertical-align: top;\n",
       "    }\n",
       "\n",
       "    .dataframe thead th {\n",
       "        text-align: right;\n",
       "    }\n",
       "</style>\n",
       "<table border=\"1\" class=\"dataframe\">\n",
       "  <thead>\n",
       "    <tr style=\"text-align: right;\">\n",
       "      <th></th>\n",
       "      <th>0</th>\n",
       "      <th>1</th>\n",
       "      <th>2</th>\n",
       "      <th>3</th>\n",
       "      <th>4</th>\n",
       "      <th>5</th>\n",
       "    </tr>\n",
       "  </thead>\n",
       "  <tbody>\n",
       "    <tr>\n",
       "      <th>0</th>\n",
       "      <td>-1.438764</td>\n",
       "      <td>1.010519</td>\n",
       "      <td>-0.453320</td>\n",
       "      <td>-0.908614</td>\n",
       "      <td>1.970587</td>\n",
       "      <td>1.343746</td>\n",
       "    </tr>\n",
       "    <tr>\n",
       "      <th>1</th>\n",
       "      <td>-1.509965</td>\n",
       "      <td>-0.989591</td>\n",
       "      <td>0.509621</td>\n",
       "      <td>-0.078767</td>\n",
       "      <td>-0.507463</td>\n",
       "      <td>0.438898</td>\n",
       "    </tr>\n",
       "    <tr>\n",
       "      <th>2</th>\n",
       "      <td>-0.797954</td>\n",
       "      <td>-0.989591</td>\n",
       "      <td>0.383307</td>\n",
       "      <td>1.580926</td>\n",
       "      <td>-0.507463</td>\n",
       "      <td>0.438898</td>\n",
       "    </tr>\n",
       "    <tr>\n",
       "      <th>3</th>\n",
       "      <td>-0.441948</td>\n",
       "      <td>-0.989591</td>\n",
       "      <td>-1.305531</td>\n",
       "      <td>-0.908614</td>\n",
       "      <td>-0.507463</td>\n",
       "      <td>-1.370796</td>\n",
       "    </tr>\n",
       "    <tr>\n",
       "      <th>4</th>\n",
       "      <td>-0.513149</td>\n",
       "      <td>-0.989591</td>\n",
       "      <td>-0.292556</td>\n",
       "      <td>-0.908614</td>\n",
       "      <td>-0.507463</td>\n",
       "      <td>-1.370796</td>\n",
       "    </tr>\n",
       "    <tr>\n",
       "      <th>...</th>\n",
       "      <td>...</td>\n",
       "      <td>...</td>\n",
       "      <td>...</td>\n",
       "      <td>...</td>\n",
       "      <td>...</td>\n",
       "      <td>...</td>\n",
       "    </tr>\n",
       "    <tr>\n",
       "      <th>1333</th>\n",
       "      <td>0.768473</td>\n",
       "      <td>-0.989591</td>\n",
       "      <td>0.050297</td>\n",
       "      <td>1.580926</td>\n",
       "      <td>-0.507463</td>\n",
       "      <td>-1.370796</td>\n",
       "    </tr>\n",
       "    <tr>\n",
       "      <th>1334</th>\n",
       "      <td>-1.509965</td>\n",
       "      <td>1.010519</td>\n",
       "      <td>0.206139</td>\n",
       "      <td>-0.908614</td>\n",
       "      <td>-0.507463</td>\n",
       "      <td>-0.465949</td>\n",
       "    </tr>\n",
       "    <tr>\n",
       "      <th>1335</th>\n",
       "      <td>-1.509965</td>\n",
       "      <td>1.010519</td>\n",
       "      <td>1.014878</td>\n",
       "      <td>-0.908614</td>\n",
       "      <td>-0.507463</td>\n",
       "      <td>0.438898</td>\n",
       "    </tr>\n",
       "    <tr>\n",
       "      <th>1336</th>\n",
       "      <td>-1.296362</td>\n",
       "      <td>1.010519</td>\n",
       "      <td>-0.797813</td>\n",
       "      <td>-0.908614</td>\n",
       "      <td>-0.507463</td>\n",
       "      <td>1.343746</td>\n",
       "    </tr>\n",
       "    <tr>\n",
       "      <th>1337</th>\n",
       "      <td>1.551686</td>\n",
       "      <td>1.010519</td>\n",
       "      <td>-0.261388</td>\n",
       "      <td>-0.908614</td>\n",
       "      <td>1.970587</td>\n",
       "      <td>-1.370796</td>\n",
       "    </tr>\n",
       "  </tbody>\n",
       "</table>\n",
       "<p>1338 rows × 6 columns</p>\n",
       "</div>"
      ],
      "text/plain": [
       "             0         1         2         3         4         5\n",
       "0    -1.438764  1.010519 -0.453320 -0.908614  1.970587  1.343746\n",
       "1    -1.509965 -0.989591  0.509621 -0.078767 -0.507463  0.438898\n",
       "2    -0.797954 -0.989591  0.383307  1.580926 -0.507463  0.438898\n",
       "3    -0.441948 -0.989591 -1.305531 -0.908614 -0.507463 -1.370796\n",
       "4    -0.513149 -0.989591 -0.292556 -0.908614 -0.507463 -1.370796\n",
       "...        ...       ...       ...       ...       ...       ...\n",
       "1333  0.768473 -0.989591  0.050297  1.580926 -0.507463 -1.370796\n",
       "1334 -1.509965  1.010519  0.206139 -0.908614 -0.507463 -0.465949\n",
       "1335 -1.509965  1.010519  1.014878 -0.908614 -0.507463  0.438898\n",
       "1336 -1.296362  1.010519 -0.797813 -0.908614 -0.507463  1.343746\n",
       "1337  1.551686  1.010519 -0.261388 -0.908614  1.970587 -1.370796\n",
       "\n",
       "[1338 rows x 6 columns]"
      ]
     },
     "execution_count": 34,
     "metadata": {},
     "output_type": "execute_result"
    }
   ],
   "source": [
    "X"
   ]
  },
  {
   "cell_type": "code",
   "execution_count": 35,
   "id": "974f1c0d",
   "metadata": {},
   "outputs": [],
   "source": [
    "X = np.array(df.iloc[:,:-1]) # Independent variables\n",
    "y = np.array(df.iloc[:,-1])   # Dependent variable"
   ]
  },
  {
   "cell_type": "code",
   "execution_count": 36,
   "id": "f99fef21",
   "metadata": {},
   "outputs": [],
   "source": [
    "# Split the dataset into Training and Test set\n",
    "from sklearn.model_selection import train_test_split\n",
    "X_train, X_test, y_train, y_test = train_test_split(X, y, test_size=0.3, random_state=0)"
   ]
  },
  {
   "cell_type": "code",
   "execution_count": 40,
   "id": "c0bc429e",
   "metadata": {},
   "outputs": [],
   "source": [
    "#importing ml library"
   ]
  },
  {
   "cell_type": "code",
   "execution_count": 61,
   "id": "efbcf8d8",
   "metadata": {},
   "outputs": [],
   "source": [
    "from sklearn.linear_model import LinearRegression\n",
    "from sklearn.ensemble import RandomForestRegressor\n",
    "from sklearn.tree import DecisionTreeRegressor\n",
    "from sklearn.svm import SVR\n",
    "from sklearn.linear_model import Ridge\n",
    "from sklearn.linear_model import LogisticRegression\n",
    "from sklearn.ensemble import GradientBoostingRegressor\n",
    "from sklearn.metrics import *"
   ]
  },
  {
   "cell_type": "markdown",
   "id": "0fe2b510",
   "metadata": {},
   "source": [
    "# Linear Regression"
   ]
  },
  {
   "cell_type": "code",
   "execution_count": 44,
   "id": "96bc9061",
   "metadata": {},
   "outputs": [],
   "source": [
    "lr = LinearRegression()\n",
    "lr.fit(X_train, y_train)\n",
    "\n",
    "y_pred_test = lr.predict(X_test)"
   ]
  },
  {
   "cell_type": "code",
   "execution_count": 47,
   "id": "66dade81",
   "metadata": {},
   "outputs": [
    {
     "name": "stdout",
     "output_type": "stream",
     "text": [
      "R2_score (Train Accuracy) :  0.7302726684938983\n",
      "R2_score (Test Accuracy) :  0.7906265855205847\n",
      "RMSE :  5778.29269033704\n"
     ]
    }
   ],
   "source": [
    "#R2 Score for training data\n",
    "y_pred_train = lr.predict(X_train)\n",
    "r2_score_train_linear = r2_score(y_train, y_pred_train)\n",
    "\n",
    "#R2 Score for testing data\n",
    "y_pred_test = lr.predict(X_test)\n",
    "r2_score_test_linear = r2_score(y_test, y_pred_test)\n",
    "\n",
    "#Root mean squared error\n",
    "rmse_linear = (np.sqrt(mean_squared_error(y_test, y_pred_test)))\n",
    "\n",
    "print('R2_score (Train Accuracy) : ',(r2_score_train_linear))\n",
    "print('R2_score (Test Accuracy) : ',(r2_score_test_linear))\n",
    "print('RMSE : ',(rmse_linear))"
   ]
  },
  {
   "cell_type": "markdown",
   "id": "16f76bc8",
   "metadata": {},
   "source": [
    "# RIDGE REGRESSION"
   ]
  },
  {
   "cell_type": "code",
   "execution_count": 52,
   "id": "f4860cf7",
   "metadata": {},
   "outputs": [],
   "source": [
    "ridge_model = Ridge(alpha=1)\n",
    "\n",
    "ridge_model.fit(X_train,y_train)\n",
    "\n",
    "y_pred_test = ridge_model.predict(X_test)"
   ]
  },
  {
   "cell_type": "code",
   "execution_count": 54,
   "id": "6813fc51",
   "metadata": {},
   "outputs": [
    {
     "name": "stdout",
     "output_type": "stream",
     "text": [
      "R2_score (Train Accuracy) :  0.7302453594205098\n",
      "R2_score (Test Accuracy) :  0.7901698550031911\n",
      "RMSE :  5784.591687103805\n"
     ]
    }
   ],
   "source": [
    "#R2 Score for training data\n",
    "y_pred_train = ridge_model.predict(X_train)\n",
    "r2_score_train_ridge = r2_score(y_train, y_pred_train)\n",
    "\n",
    "#R2 Score for testing data\n",
    "y_pred_test = ridge_model.predict(X_test)\n",
    "r2_score_test_ridge = r2_score(y_test, y_pred_test)\n",
    "\n",
    "#Root mean squared error\n",
    "rmse_ridge = (np.sqrt(mean_squared_error(y_test, y_pred_test)))\n",
    "\n",
    "print('R2_score (Train Accuracy) : ',(r2_score_train_ridge))\n",
    "print('R2_score (Test Accuracy) : ',(r2_score_test_ridge))\n",
    "print('RMSE : ',(rmse_ridge))"
   ]
  },
  {
   "cell_type": "markdown",
   "id": "cc24b196",
   "metadata": {},
   "source": [
    "# RANDOM FOREST REGRESSOR\n"
   ]
  },
  {
   "cell_type": "code",
   "execution_count": 55,
   "id": "6784bd51",
   "metadata": {},
   "outputs": [],
   "source": [
    "random_model = RandomForestRegressor()\n",
    "\n",
    "random_model.fit(X_train,y_train)\n",
    "\n",
    "y_pred_test = random_model.predict(X_test)"
   ]
  },
  {
   "cell_type": "code",
   "execution_count": 56,
   "id": "a498ddc6",
   "metadata": {},
   "outputs": [
    {
     "name": "stdout",
     "output_type": "stream",
     "text": [
      "R2_score (Train Accuracy) :  0.9738349429755595\n",
      "R2_score (Test Accuracy) :  0.8583984427610696\n",
      "RMSE :  4751.960078912523\n"
     ]
    }
   ],
   "source": [
    "#R2 Score for training data\n",
    "y_pred_train = random_model.predict(X_train)\n",
    "r2_score_train_random = r2_score(y_train, y_pred_train)\n",
    "\n",
    "#R2 Score for testing data\n",
    "y_pred_test = random_model.predict(X_test)\n",
    "r2_score_test_random = r2_score(y_test, y_pred_test)\n",
    "\n",
    "#Root mean squared error\n",
    "rmse_random = (np.sqrt(mean_squared_error(y_test, y_pred_test)))\n",
    "\n",
    "print('R2_score (Train Accuracy) : ',(r2_score_train_random))\n",
    "print('R2_score (Test Accuracy) : ',(r2_score_test_random))\n",
    "print('RMSE : ',(rmse_random))"
   ]
  },
  {
   "cell_type": "markdown",
   "id": "5b8d3443",
   "metadata": {},
   "source": [
    "# DECISION TREE REGRESSION\n"
   ]
  },
  {
   "cell_type": "code",
   "execution_count": 58,
   "id": "fa797085",
   "metadata": {},
   "outputs": [],
   "source": [
    "DT = DecisionTreeRegressor()\n",
    "DT.fit(X_train, y_train)\n",
    "\n",
    "y_pred_test = DT.predict(X_test)"
   ]
  },
  {
   "cell_type": "code",
   "execution_count": 60,
   "id": "df4cd38a",
   "metadata": {},
   "outputs": [
    {
     "name": "stdout",
     "output_type": "stream",
     "text": [
      "R2_score (Train Accuracy) :  0.9994078632651511\n",
      "R2_score (Test Accuracy) :  0.7201448032125566\n",
      "RMSE :  6680.445983602803\n"
     ]
    }
   ],
   "source": [
    "#R2 Score for training data\n",
    "y_pred_train = DT.predict(X_train)\n",
    "r2_score_train_dt = r2_score(y_train, y_pred_train)\n",
    "\n",
    "#R2 Score for testing data\n",
    "y_pred_test = DT.predict(X_test)\n",
    "r2_score_test_dt = r2_score(y_test, y_pred_test)\n",
    "\n",
    "#Root mean squared error\n",
    "rmse_dt = (np.sqrt(mean_squared_error(y_test, y_pred_test)))\n",
    "\n",
    "print('R2_score (Train Accuracy) : ',(r2_score_train_dt))\n",
    "print('R2_score (Test Accuracy) : ',(r2_score_test_dt))\n",
    "print('RMSE : ',(rmse_dt))"
   ]
  },
  {
   "cell_type": "markdown",
   "id": "11382df1",
   "metadata": {},
   "source": [
    "# GradientBoostingRegressor"
   ]
  },
  {
   "cell_type": "code",
   "execution_count": 67,
   "id": "8a2acbed",
   "metadata": {},
   "outputs": [],
   "source": [
    "gb = GradientBoostingRegressor()\n",
    "gb.fit(X_train,y_train)\n",
    "y_pred_test=gb.predict(X_test)"
   ]
  },
  {
   "cell_type": "code",
   "execution_count": 68,
   "id": "428721d7",
   "metadata": {},
   "outputs": [
    {
     "name": "stdout",
     "output_type": "stream",
     "text": [
      "R2_score (Train Accuracy) :  0.9001160415435755\n",
      "R2_score (Test Accuracy) :  0.8879384651103315\n",
      "RMSE :  4227.338764307395\n"
     ]
    }
   ],
   "source": [
    "#R2 Score for training data\n",
    "y_pred_train = gb.predict(X_train)\n",
    "r2_score_train_gb = r2_score(y_train, y_pred_train)\n",
    "\n",
    "#R2 Score for testing data\n",
    "y_pred_test = gb.predict(X_test)\n",
    "r2_score_test_gb = r2_score(y_test, y_pred_test)\n",
    "\n",
    "#Root mean squared error\n",
    "rmse_gb = (np.sqrt(mean_squared_error(y_test, y_pred_test)))\n",
    "\n",
    "print('R2_score (Train Accuracy) : ',(r2_score_train_gb))\n",
    "print('R2_score (Test Accuracy) : ',(r2_score_test_gb))\n",
    "print('RMSE : ',(rmse_gb))"
   ]
  },
  {
   "cell_type": "markdown",
   "id": "c13e1224",
   "metadata": {},
   "source": [
    " It seems the Gradient Boosting Regression model is the best choice for my dataset. Lets tune it using gridsearchcv"
   ]
  },
  {
   "cell_type": "markdown",
   "id": "cf81ca41",
   "metadata": {},
   "source": [
    "# HYPERPARAMETER TUNING"
   ]
  },
  {
   "cell_type": "code",
   "execution_count": 78,
   "id": "4bf866cd",
   "metadata": {},
   "outputs": [],
   "source": [
    "from sklearn.model_selection import GridSearchCV"
   ]
  },
  {
   "cell_type": "code",
   "execution_count": 79,
   "id": "7e88d9c6",
   "metadata": {},
   "outputs": [],
   "source": [
    "# Create the parameters for GridSearchCV\n",
    "gb_param = {\"n_estimators\":[75,100,150,200,300,400],\"learning_rate\":[0.01,0.05,0.1,0.2,0.3],\"min_samples_leaf\":[0.7,0.8,0.9,1,1.1,1.2],\"max_depth\":[2,3,4,5,6]}"
   ]
  },
  {
   "cell_type": "code",
   "execution_count": 80,
   "id": "3375e800",
   "metadata": {},
   "outputs": [
    {
     "data": {
      "text/plain": [
       "GridSearchCV(cv=5, estimator=GradientBoostingRegressor(),\n",
       "             param_grid={'learning_rate': [0.01, 0.05, 0.1, 0.2, 0.3],\n",
       "                         'max_depth': [2, 3, 4, 5, 6],\n",
       "                         'min_samples_leaf': [0.7, 0.8, 0.9, 1, 1.1, 1.2],\n",
       "                         'n_estimators': [75, 100, 150, 200, 300, 400]})"
      ]
     },
     "execution_count": 80,
     "metadata": {},
     "output_type": "execute_result"
    }
   ],
   "source": [
    "gb_grid = GridSearchCV(gb,gb_param,cv=5)\n",
    "gb_grid.fit(X_train,y_train)"
   ]
  },
  {
   "cell_type": "code",
   "execution_count": 81,
   "id": "45bed858",
   "metadata": {},
   "outputs": [
    {
     "data": {
      "text/plain": [
       "{'learning_rate': 0.05,\n",
       " 'max_depth': 2,\n",
       " 'min_samples_leaf': 1,\n",
       " 'n_estimators': 200}"
      ]
     },
     "execution_count": 81,
     "metadata": {},
     "output_type": "execute_result"
    }
   ],
   "source": [
    "gb_grid.best_params_"
   ]
  },
  {
   "cell_type": "code",
   "execution_count": 99,
   "id": "65971856",
   "metadata": {},
   "outputs": [
    {
     "data": {
      "text/plain": [
       "GradientBoostingRegressor(learning_rate=0.01, n_estimators=400)"
      ]
     },
     "execution_count": 99,
     "metadata": {},
     "output_type": "execute_result"
    }
   ],
   "source": [
    "new_gb = GradientBoostingRegressor(learning_rate=0.01,max_depth=3,min_samples_leaf=1,n_estimators=400)\n",
    "new_gb.fit(X_train,y_train)"
   ]
  },
  {
   "cell_type": "code",
   "execution_count": 100,
   "id": "e0e651f2",
   "metadata": {},
   "outputs": [
    {
     "data": {
      "text/plain": [
       "0.8929989701691528"
      ]
     },
     "execution_count": 100,
     "metadata": {},
     "output_type": "execute_result"
    }
   ],
   "source": [
    "final_model_pred= new_gb.predict(X_test)\n",
    "new_gb.score(X_test,y_test)"
   ]
  },
  {
   "cell_type": "markdown",
   "id": "e12105d8",
   "metadata": {},
   "source": [
    "so we got accuracy of 89% by tuning the parameter of our best model i.e.GradientBoostingRegressor "
   ]
  },
  {
   "cell_type": "markdown",
   "id": "1fd5979d",
   "metadata": {},
   "source": [
    "# saving the model"
   ]
  },
  {
   "cell_type": "code",
   "execution_count": 102,
   "id": "62434a17",
   "metadata": {},
   "outputs": [],
   "source": [
    "import pickle\n",
    "filename = 'medical_cost_insurance.pkl'\n",
    "pickle.dump(new_gb,open(filename,'wb'))#saved model"
   ]
  },
  {
   "cell_type": "code",
   "execution_count": 104,
   "id": "07521774",
   "metadata": {},
   "outputs": [
    {
     "name": "stdout",
     "output_type": "stream",
     "text": [
      "89.29989701691528\n"
     ]
    }
   ],
   "source": [
    "import pickle\n",
    "loaded_model=pickle.load(open('medical_cost_insurance.pkl','rb'))\n",
    "result=loaded_model.score(X_test,y_test)\n",
    "print(result*100)"
   ]
  },
  {
   "cell_type": "code",
   "execution_count": null,
   "id": "010fdbb9",
   "metadata": {},
   "outputs": [],
   "source": []
  }
 ],
 "metadata": {
  "kernelspec": {
   "display_name": "Python 3 (ipykernel)",
   "language": "python",
   "name": "python3"
  },
  "language_info": {
   "codemirror_mode": {
    "name": "ipython",
    "version": 3
   },
   "file_extension": ".py",
   "mimetype": "text/x-python",
   "name": "python",
   "nbconvert_exporter": "python",
   "pygments_lexer": "ipython3",
   "version": "3.9.12"
  }
 },
 "nbformat": 4,
 "nbformat_minor": 5
}
